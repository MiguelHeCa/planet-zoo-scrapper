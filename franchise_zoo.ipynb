{
 "cells": [
  {
   "cell_type": "markdown",
   "id": "a7e2fb3f-dadf-43bd-96d5-f22d1640a4f5",
   "metadata": {},
   "source": [
    "# Franchise Zoo Control\n",
    "\n",
    "This notebook is used for franchise control in zoos, loading data transformed in the `scrapping_zoopedia.ipynb` notebook.\n"
   ]
  },
  {
   "cell_type": "code",
   "execution_count": 6,
   "id": "7a13d7e8-5176-4210-b80b-1284b43f161a",
   "metadata": {},
   "outputs": [],
   "source": [
    "from pathlib import Path\n",
    "\n",
    "from pyspark.sql import SparkSession\n",
    "from pyspark.sql.functions import col\n",
    "from pyspark.sql.functions import lit\n",
    "from pyspark.sql.functions import when"
   ]
  },
  {
   "cell_type": "code",
   "execution_count": 2,
   "id": "904fbb53-1501-4094-a04e-80db573e68f1",
   "metadata": {},
   "outputs": [
    {
     "name": "stdout",
     "output_type": "stream",
     "text": [
      "23/01/14 14:33:12 WARN Utils: Your hostname, MacBook-Pro-de-Miguel.local resolves to a loopback address: 127.0.0.1; using 192.168.1.38 instead (on interface en0)\n",
      "23/01/14 14:33:12 WARN Utils: Set SPARK_LOCAL_IP if you need to bind to another address\n"
     ]
    },
    {
     "name": "stderr",
     "output_type": "stream",
     "text": [
      "Setting default log level to \"WARN\".\n",
      "To adjust logging level use sc.setLogLevel(newLevel). For SparkR, use setLogLevel(newLevel).\n"
     ]
    },
    {
     "name": "stdout",
     "output_type": "stream",
     "text": [
      "23/01/14 14:33:12 WARN NativeCodeLoader: Unable to load native-hadoop library for your platform... using builtin-java classes where applicable\n"
     ]
    }
   ],
   "source": [
    "spark = (SparkSession.builder.appName('Zoopedia').getOrCreate())"
   ]
  },
  {
   "cell_type": "code",
   "execution_count": 3,
   "id": "33f7a50f-93ba-4b0c-9831-9905ab5845f7",
   "metadata": {},
   "outputs": [
    {
     "name": "stderr",
     "output_type": "stream",
     "text": [
      "                                                                                \r"
     ]
    }
   ],
   "source": [
    "# df = spark.read.parquet('zoopedia.parquet')\n",
    "# df.createOrReplaceTempView('ZOOPEDIA')\n",
    "# spark.sql('SELECT Biome FROM ZOOPEDIA GROUP BY BIOME').show()"
   ]
  },
  {
   "cell_type": "markdown",
   "id": "ee6aa617-7fef-4668-8d7a-c90a262249ed",
   "metadata": {},
   "source": [
    "## Update Research in Franchise Mode"
   ]
  },
  {
   "cell_type": "code",
   "execution_count": null,
   "id": "63f15efb-14a9-4427-8b00-11f44af56058",
   "metadata": {
    "tags": []
   },
   "outputs": [],
   "source": [
    "# spark.sql('SELECT DISTINCT(Species) FROM ZOOPEDIA ORDER BY Species').rdd.map(lambda x: x[0]).collect()"
   ]
  },
  {
   "cell_type": "code",
   "execution_count": 9,
   "id": "4e9e7b6b-a680-4fa9-8d1d-8145b744b464",
   "metadata": {},
   "outputs": [],
   "source": [
    "if not Path('franchise.parquet').exists():\n",
    "    df = spark.read.parquet('zoopedia.parquet')\n",
    "    df = df.withColumn('Research', lit(False))\n",
    "    df.write.parquet('franchise.parquet')\n",
    "else:\n",
    "    df = spark.read.parquet('franchise.parquet')"
   ]
  },
  {
   "cell_type": "code",
   "execution_count": 10,
   "id": "2fa532bd-4e94-489b-a39b-381c37fa9d12",
   "metadata": {},
   "outputs": [
    {
     "name": "stdout",
     "output_type": "stream",
     "text": [
      "+--------------------+---------------+---------+--------------------+---------+----+-------+----+--------+\n",
      "|             Species|         Status|Enclosure|             Package|    Biome|Good|Neutral| Bad|Research|\n",
      "+--------------------+---------------+---------+--------------------+---------+----+-------+----+--------+\n",
      "|            Aardvark|  Least concern|  Habitat|                Base|Grassland|<12m| 12-24m|>24m|    true|\n",
      "|            Aardvark|  Least concern|  Habitat|                Base| Tropical|<12m| 12-24m|>24m|    true|\n",
      "|     African Buffalo|Near threatened|  Habitat|                Base|Grassland|<20m| 20-36m|>36m|   false|\n",
      "|     African Buffalo|Near threatened|  Habitat|                Base| Tropical|<20m| 20-36m|>36m|   false|\n",
      "|     African Penguin|     Endangered|  Habitat|         Africa Pack|  Aquatic|<12m| 12-24m|>24m|    true|\n",
      "|     African Penguin|     Endangered|  Habitat|         Africa Pack|   Desert|<12m| 12-24m|>24m|    true|\n",
      "|African Savannah ...|     Endangered|  Habitat|                Base|   Desert|<20m| 20-44m|>44m|    true|\n",
      "|African Savannah ...|     Endangered|  Habitat|                Base|Grassland|<20m| 20-44m|>44m|    true|\n",
      "|    African Wild Dog|     Endangered|  Habitat|                Base|Grassland|<16m| 16-28m|>28m|    true|\n",
      "|    African Wild Dog|     Endangered|  Habitat|                Base|   Desert|<16m| 16-28m|>28m|    true|\n",
      "|Aldabra Giant Tor...|     Vulnerable|  Habitat|                Base| Tropical|<12m| 12-24m|>24m|   false|\n",
      "|         Alpine Ibex|  Least concern|  Habitat|         Europe Pack|    Taiga|null|   null|null|   false|\n",
      "|Amazonian Giant C...| Data deficient|  Exhibit|                Base|Temperate|null|   null|null|    true|\n",
      "|Amazonian Giant C...| Data deficient|  Exhibit|                Base| Tropical|null|   null|null|    true|\n",
      "|  American Alligator|  Least concern|  Habitat|North America Ani...|  Aquatic|<16m| 16-28m|>28m|    true|\n",
      "|  American Alligator|  Least concern|  Habitat|North America Ani...|Temperate|<16m| 16-28m|>28m|    true|\n",
      "|      American Bison|Near threatened|  Habitat|                Base|Grassland|<20m| 20-36m|>36m|   false|\n",
      "|      American Bison|Near threatened|  Habitat|                Base|    Taiga|<20m| 20-36m|>36m|   false|\n",
      "|   American Bullfrog|  Least concern|  Exhibit|North America Ani...|Temperate|null|   null|null|    true|\n",
      "|   American Bullfrog|  Least concern|  Exhibit|North America Ani...|  Aquatic|null|   null|null|    true|\n",
      "+--------------------+---------------+---------+--------------------+---------+----+-------+----+--------+\n",
      "only showing top 20 rows\n",
      "\n"
     ]
    }
   ],
   "source": [
    "researched = [\n",
    " 'Aardvark',\n",
    " # 'African Buffalo',\n",
    " 'African Penguin',\n",
    " 'African Savannah Elephant',\n",
    " 'African Wild Dog',\n",
    " # 'Aldabra Giant Tortoise',\n",
    " # 'Alpine Ibex',\n",
    " 'Amazonian Giant Centipede',\n",
    " 'American Alligator',\n",
    " # 'American Bison',\n",
    " 'American Bullfrog',\n",
    " # 'Amur Leopard',\n",
    " 'Arctic Fox',\n",
    " # 'Arctic Wolf',\n",
    " 'Asian Small-Clawed Otter',\n",
    " 'Axolotl',\n",
    " 'Bactrian Camel',\n",
    " \"Baird's Tapir\",\n",
    " # 'Bengal Tiger',\n",
    " 'Binturong',\n",
    " # 'Black Wildebeest',\n",
    " 'Black-Tailed Prairie Dog',\n",
    " 'Black-and-White Ruffed Lemur',\n",
    " # 'Blue Wildebeest',\n",
    " 'Boa Constrictor',\n",
    " # 'Bongo',\n",
    " 'Bonobo',\n",
    " 'Bornean Orangutan',\n",
    " 'Brazilian Salmon Pink Tarantula',\n",
    " 'Brazilian Wandering Spider',\n",
    " # 'California Sea Lion',\n",
    " 'Capybara',\n",
    " 'Caracal',\n",
    " 'Cheetah',\n",
    " 'Chinese Pangolin',\n",
    " 'Clouded Leopard',\n",
    " # 'Cloudless Sulphur',\n",
    " 'Colombian White-Faced Capuchin Monkey',\n",
    " 'Common Death Adder',\n",
    " 'Common Ostrich',\n",
    " 'Common Warthog',\n",
    " # 'Common Wombat',\n",
    " 'Cougar',\n",
    " \"Cuvier's Dwarf Caiman\",\n",
    " # 'Dall Sheep',\n",
    " 'Danube Crested Newt',\n",
    " 'Dhole',\n",
    " # 'Diamondback Terrapin',\n",
    " 'Dingo',\n",
    " # 'Eastern Blue Tongued Lizard',\n",
    " 'Eastern Brown Snake',\n",
    " 'Egyptian Fruit Bat',\n",
    " 'Emu',\n",
    " # 'Eurasian Lynx',\n",
    " 'European Badger',\n",
    " # 'European Fallow Deer',\n",
    " # 'European Peacock',\n",
    " 'Fennec Fox',\n",
    " 'Fire Salamander',\n",
    " 'Formosan Black Bear',\n",
    " 'Galapagos Giant Tortoise',\n",
    " 'Gemsbok',\n",
    " 'Gharial',\n",
    " 'Giant Anteater',\n",
    " 'Giant Burrowing Cockroach',\n",
    " 'Giant Desert Hairy Scorpion',\n",
    " 'Giant Forest Scorpion',\n",
    " 'Giant Malaysian Leaf Insect',\n",
    " 'Giant Otter',\n",
    " # 'Giant Panda',\n",
    " # 'Giant Tiger Land Snail',\n",
    " 'Gila Monster',\n",
    " 'Golden Poison Frog',\n",
    " 'Goliath Beetle',\n",
    " 'Goliath Birdeater',\n",
    " # 'Goliath Frog',\n",
    " # 'Greater Flamingo',\n",
    " 'Green Iguana',\n",
    " # 'Grey Seal',\n",
    " # 'Grizzly Bear',\n",
    " # 'Himalayan Brown Bear',\n",
    " # 'Hippopotamus',\n",
    " 'Indian Elephant',\n",
    " 'Indian Peafowl',\n",
    " # 'Indian Rhinoceros',\n",
    " 'Jaguar',\n",
    " # 'Japanese Macaque',\n",
    " # 'King Penguin',\n",
    " 'Koala',\n",
    " 'Komodo Dragon',\n",
    " # \"Lehmann's Poison Frog\",\n",
    " 'Lesser Antillean Iguana',\n",
    " # 'Llama',\n",
    " # 'Malayan Tapir',\n",
    " # 'Mandrill',\n",
    " # 'Maned Wolf',\n",
    " 'Meerkat',\n",
    " # 'Menelaus Blue Morpho',\n",
    " 'Mexican Red Knee Tarantula',\n",
    " # 'Monarch',\n",
    " # 'Moose',\n",
    " # 'Nile Lechwe',\n",
    " 'Nile Monitor',\n",
    " 'Nine-Banded Armadillo',\n",
    " # 'North American Beaver',\n",
    " # 'North Sulawesi Babirusa',\n",
    " # 'Nyala',\n",
    " # 'Okapi',\n",
    " # 'Old World Swallowtail',\n",
    " # 'Plains Zebra',\n",
    " 'Platypus',\n",
    " # 'Polar Bear',\n",
    " # 'Proboscis Monkey',\n",
    " 'Pronghorn Antelope',\n",
    " \"Przewalski's Horse\",\n",
    " 'Puff Adder',\n",
    " # 'Pygmy Hippo',\n",
    " # 'Raccoon',\n",
    " # 'Red Deer',\n",
    " 'Red Fox',\n",
    " 'Red Kangaroo',\n",
    " 'Red Panda',\n",
    " 'Red Ruffed Lemur',\n",
    " 'Red-Crowned Crane',\n",
    " 'Red-Eyed Tree Frog',\n",
    " # 'Red-Necked Wallaby',\n",
    " # 'Reindeer',\n",
    " # 'Reticulated Giraffe',\n",
    " 'Ring Tailed Lemur',\n",
    " # 'Sable Antelope',\n",
    " 'Sacred Scarab Beetle',\n",
    " 'Saltwater Crocodile',\n",
    " 'Scimitar-Horned Oryx',\n",
    " 'Siamang',\n",
    " # 'Siberian Tiger',\n",
    " # 'Snow Leopard',\n",
    " 'Southern Cassowary',\n",
    " # 'Southern White Rhinoceros',\n",
    " 'Spectacled Caiman',\n",
    " # 'Spotted Hyena',\n",
    " 'Springbok',\n",
    " 'Striped Hyena',\n",
    " # 'Striped Skunk',\n",
    " 'Sun Bear',\n",
    " # \"Thomson's Gazelle\",\n",
    " # 'Timber Wolf',\n",
    " 'Titan Beetle',\n",
    " 'West African Lion',\n",
    " # 'Western Chimpanzee',\n",
    " 'Western Diamondback Rattlesnake',\n",
    " 'Western Lowland Gorilla',\n",
    " 'Wild Water Buffalo',\n",
    " 'Yellow Anaconda'\n",
    "]\n",
    "df = df.withColumn('Research', when(col('Species').isin(researched), lit(True)).otherwise(df.Research))\n",
    "df.show()"
   ]
  },
  {
   "cell_type": "code",
   "execution_count": 12,
   "id": "3ee1ea39-bd05-4e3e-80ce-28c27fa32c4c",
   "metadata": {},
   "outputs": [],
   "source": [
    "df.write.mode('overwrite').parquet('franchise.parquet')"
   ]
  },
  {
   "cell_type": "markdown",
   "id": "673d5fab-a911-4f4d-a58e-c4a55d4adfbe",
   "metadata": {},
   "source": [
    "## Seals' Club"
   ]
  },
  {
   "cell_type": "code",
   "execution_count": 14,
   "id": "2134cba7-5fe1-4694-9f1b-ef1e40e12864",
   "metadata": {},
   "outputs": [],
   "source": [
    "df.createOrReplaceTempView('FRANCHISE')"
   ]
  },
  {
   "cell_type": "code",
   "execution_count": 17,
   "id": "dffe7771-f620-4f7a-8180-e412b5cf7a90",
   "metadata": {},
   "outputs": [],
   "source": [
    "query = \"\"\"\n",
    "SELECT DISTINCT(Species), Enclosure, Research, Good, Neutral\n",
    "FROM FRANCHISE\n",
    "WHERE Biome = 'Tundra'\n",
    "OR Enclosure = 'Exhibit'\n",
    "ORDER BY Enclosure DESC, Good, Species\n",
    "\"\"\"\n",
    "df_sc = spark.sql(query)\n",
    "# spark.sql(query).show()"
   ]
  },
  {
   "cell_type": "code",
   "execution_count": 18,
   "id": "caa0f21d-b0b3-47ea-95d5-2180b088acfc",
   "metadata": {},
   "outputs": [],
   "source": [
    "df_sc = df_sc.withColumn('Present', lit(False))"
   ]
  },
  {
   "cell_type": "code",
   "execution_count": 19,
   "id": "90a44e12-0500-476c-b500-98fa202a3d8b",
   "metadata": {},
   "outputs": [
    {
     "name": "stdout",
     "output_type": "stream",
     "text": [
      "+--------------------+---------+--------+----+-------+-------+\n",
      "|             Species|Enclosure|Research|Good|Neutral|Present|\n",
      "+--------------------+---------+--------+----+-------+-------+\n",
      "|       Eurasian Lynx|  Habitat|   false|null|   null|  false|\n",
      "|           Grey Seal|  Habitat|   false|null|   null|  false|\n",
      "|             Red Fox|  Habitat|    true|null|   null|  false|\n",
      "|   Red-Crowned Crane|  Habitat|    true|null|   null|  false|\n",
      "|          Arctic Fox|  Habitat|    true|<12m| 12-24m|  false|\n",
      "|         Arctic Wolf|  Habitat|   false|<16m| 16-32m|  false|\n",
      "|          Dall Sheep|  Habitat|   false|<16m| 16-28m|  false|\n",
      "|        King Penguin|  Habitat|   false|<16m| 16-28m|  false|\n",
      "|         Timber Wolf|  Habitat|   false|<16m| 16-32m|  false|\n",
      "|        Grizzly Bear|  Habitat|   false|<20m| 20-36m|  false|\n",
      "|Himalayan Brown Bear|  Habitat|   false|<20m| 20-36m|  false|\n",
      "|               Moose|  Habitat|   false|<20m| 20-36m|  false|\n",
      "|            Reindeer|  Habitat|   false|<20m| 20-36m|  false|\n",
      "|          Polar Bear|  Habitat|   false|<24m| 24-48m|  false|\n",
      "|Amazonian Giant C...|  Exhibit|    true|null|   null|  false|\n",
      "|   American Bullfrog|  Exhibit|    true|null|   null|  false|\n",
      "|             Axolotl|  Exhibit|    true|null|   null|  false|\n",
      "|     Boa Constrictor|  Exhibit|    true|null|   null|  false|\n",
      "|Brazilian Salmon ...|  Exhibit|    true|null|   null|  false|\n",
      "|Brazilian Wanderi...|  Exhibit|    true|null|   null|  false|\n",
      "+--------------------+---------+--------+----+-------+-------+\n",
      "only showing top 20 rows\n",
      "\n"
     ]
    }
   ],
   "source": [
    "df_sc.show()"
   ]
  },
  {
   "cell_type": "code",
   "execution_count": 20,
   "id": "b62b51c4-fdff-48b8-a559-962f0c004576",
   "metadata": {},
   "outputs": [],
   "source": [
    "animals_in_zoo = [\n",
    "    'Arctic Fox',\n",
    "    'Arctic Wolf',\n",
    "    'Grizzly Bear',\n",
    "    'Himalayan Brown Bear',\n",
    "    'Timber Wolf',\n",
    "    'Titan Beetle',\n",
    "    'Giant Beetle',\n",
    "    \n",
    "]"
   ]
  },
  {
   "cell_type": "code",
   "execution_count": 24,
   "id": "00b642e3-c88d-453e-ab2d-dd333b5a5394",
   "metadata": {},
   "outputs": [],
   "source": [
    "df_sc = df_sc.withColumn('Present', when(col('Species').isin(animals_in_zoo), lit(True)).otherwise(df_sc.Present))"
   ]
  },
  {
   "cell_type": "code",
   "execution_count": 35,
   "id": "843ab2a3-0112-4237-b2ea-9b2399c36b64",
   "metadata": {},
   "outputs": [],
   "source": [
    "df_sc = df_sc.withColumn('Present', when(df_sc.Species == 'Arctic Fox', lit(True)).otherwise(df_sc.Present))"
   ]
  },
  {
   "cell_type": "code",
   "execution_count": 36,
   "id": "1c58a875-f943-4a7c-a0a9-3152a908d002",
   "metadata": {},
   "outputs": [],
   "source": [
    "df_sc = df_sc.withColumn('Present', when(df_sc.Species == 'Arctic Wolf', lit(True)).otherwise(df_sc.Present))"
   ]
  },
  {
   "cell_type": "code",
   "execution_count": 37,
   "id": "85bd8adf-dab4-4093-add0-45840b287ae8",
   "metadata": {},
   "outputs": [],
   "source": [
    "df_sc = df_sc.withColumn('Present', when(df_sc.Species == 'Grizzly Bear', lit(True)).otherwise(df_sc.Present))"
   ]
  },
  {
   "cell_type": "code",
   "execution_count": 40,
   "id": "00f946b0-605a-454b-8041-4c756feeb712",
   "metadata": {},
   "outputs": [],
   "source": [
    "df_sc = df_sc.withColumn('Present', when(df_sc.Species == 'Himalayan Brown Bear', lit(True)).otherwise(df_sc.Present))\n",
    "df_sc = df_sc.withColumn('Present', when(df_sc.Species == 'Timber Wolf', lit(True)).otherwise(df_sc.Present))"
   ]
  },
  {
   "cell_type": "code",
   "execution_count": null,
   "id": "2251c691-5b10-4a2a-b141-07a5d9809306",
   "metadata": {},
   "outputs": [],
   "source": [
    "df_sc.createOrReplaceTempView('SEALS_CLUB')"
   ]
  },
  {
   "cell_type": "code",
   "execution_count": 26,
   "id": "8c60ef66-497e-4181-97f3-cb9fecef1632",
   "metadata": {},
   "outputs": [],
   "source": [
    "query = \"\"\"\n",
    "SELECT *\n",
    "FROM SEALS_CLUB\n",
    "ORDER BY Present, Enclosure DESC, Good, Species, Research\n",
    "\"\"\""
   ]
  },
  {
   "cell_type": "code",
   "execution_count": 28,
   "id": "d1be491a-2787-44c4-87f0-4f35355dfd33",
   "metadata": {},
   "outputs": [
    {
     "name": "stdout",
     "output_type": "stream",
     "text": [
      "+--------------------+---------+--------+----+-------+-------+\n",
      "|             Species|Enclosure|Research|Good|Neutral|Present|\n",
      "+--------------------+---------+--------+----+-------+-------+\n",
      "|       Eurasian Lynx|  Habitat|   false|null|   null|  false|\n",
      "|           Grey Seal|  Habitat|   false|null|   null|  false|\n",
      "|             Red Fox|  Habitat|    true|null|   null|  false|\n",
      "|   Red-Crowned Crane|  Habitat|    true|null|   null|  false|\n",
      "|          Dall Sheep|  Habitat|   false|<16m| 16-28m|  false|\n",
      "|        King Penguin|  Habitat|   false|<16m| 16-28m|  false|\n",
      "|               Moose|  Habitat|   false|<20m| 20-36m|  false|\n",
      "|            Reindeer|  Habitat|   false|<20m| 20-36m|  false|\n",
      "|          Polar Bear|  Habitat|   false|<24m| 24-48m|  false|\n",
      "|Amazonian Giant C...|  Exhibit|    true|null|   null|  false|\n",
      "|   American Bullfrog|  Exhibit|    true|null|   null|  false|\n",
      "|             Axolotl|  Exhibit|    true|null|   null|  false|\n",
      "|     Boa Constrictor|  Exhibit|    true|null|   null|  false|\n",
      "|Brazilian Salmon ...|  Exhibit|    true|null|   null|  false|\n",
      "|Brazilian Wanderi...|  Exhibit|    true|null|   null|  false|\n",
      "|   Cloudless Sulphur|  Exhibit|   false|null|   null|  false|\n",
      "|  Common Death Adder|  Exhibit|    true|null|   null|  false|\n",
      "| Danube Crested Newt|  Exhibit|    true|null|   null|  false|\n",
      "|Diamondback Terrapin|  Exhibit|   false|null|   null|  false|\n",
      "|Eastern Blue Tong...|  Exhibit|   false|null|   null|  false|\n",
      "| Eastern Brown Snake|  Exhibit|    true|null|   null|  false|\n",
      "|  Egyptian Fruit Bat|  Exhibit|    true|null|   null|  false|\n",
      "|    European Peacock|  Exhibit|   false|null|   null|  false|\n",
      "|     Fire Salamander|  Exhibit|    true|null|   null|  false|\n",
      "|Giant Burrowing C...|  Exhibit|    true|null|   null|  false|\n",
      "|Giant Desert Hair...|  Exhibit|    true|null|   null|  false|\n",
      "|Giant Forest Scor...|  Exhibit|    true|null|   null|  false|\n",
      "|Giant Malaysian L...|  Exhibit|    true|null|   null|  false|\n",
      "|Giant Tiger Land ...|  Exhibit|   false|null|   null|  false|\n",
      "|        Gila Monster|  Exhibit|    true|null|   null|  false|\n",
      "|  Golden Poison Frog|  Exhibit|    true|null|   null|  false|\n",
      "|      Goliath Beetle|  Exhibit|    true|null|   null|  false|\n",
      "|   Goliath Birdeater|  Exhibit|    true|null|   null|  false|\n",
      "|        Goliath Frog|  Exhibit|   false|null|   null|  false|\n",
      "|        Green Iguana|  Exhibit|    true|null|   null|  false|\n",
      "|Lehmann's Poison ...|  Exhibit|   false|null|   null|  false|\n",
      "|Lesser Antillean ...|  Exhibit|    true|null|   null|  false|\n",
      "|Menelaus Blue Morpho|  Exhibit|   false|null|   null|  false|\n",
      "|Mexican Red Knee ...|  Exhibit|    true|null|   null|  false|\n",
      "|             Monarch|  Exhibit|   false|null|   null|  false|\n",
      "|Old World Swallow...|  Exhibit|   false|null|   null|  false|\n",
      "|          Puff Adder|  Exhibit|    true|null|   null|  false|\n",
      "|  Red-Eyed Tree Frog|  Exhibit|    true|null|   null|  false|\n",
      "|Sacred Scarab Beetle|  Exhibit|    true|null|   null|  false|\n",
      "|Western Diamondba...|  Exhibit|    true|null|   null|  false|\n",
      "|     Yellow Anaconda|  Exhibit|    true|null|   null|  false|\n",
      "|          Arctic Fox|  Habitat|    true|<12m| 12-24m|   true|\n",
      "|         Arctic Wolf|  Habitat|   false|<16m| 16-32m|   true|\n",
      "|         Timber Wolf|  Habitat|   false|<16m| 16-32m|   true|\n",
      "|        Grizzly Bear|  Habitat|   false|<20m| 20-36m|   true|\n",
      "|Himalayan Brown Bear|  Habitat|   false|<20m| 20-36m|   true|\n",
      "|        Titan Beetle|  Exhibit|    true|null|   null|   true|\n",
      "+--------------------+---------+--------+----+-------+-------+\n",
      "\n"
     ]
    }
   ],
   "source": [
    "spark.sql(query).show(df_sc.count())"
   ]
  },
  {
   "cell_type": "code",
   "execution_count": null,
   "id": "dcdf588e-59a1-4e4c-b4e1-1af0246ef556",
   "metadata": {},
   "outputs": [],
   "source": []
  },
  {
   "cell_type": "code",
   "execution_count": 29,
   "id": "85760e08-6371-4bbc-95db-61246f62e549",
   "metadata": {},
   "outputs": [],
   "source": [
    "spark.stop()"
   ]
  },
  {
   "cell_type": "code",
   "execution_count": null,
   "id": "970e76af-a880-4e1b-97e9-b4424e91bec9",
   "metadata": {},
   "outputs": [],
   "source": []
  }
 ],
 "metadata": {
  "kernelspec": {
   "display_name": "Python 3 (ipykernel)",
   "language": "python",
   "name": "python3"
  },
  "language_info": {
   "codemirror_mode": {
    "name": "ipython",
    "version": 3
   },
   "file_extension": ".py",
   "mimetype": "text/x-python",
   "name": "python",
   "nbconvert_exporter": "python",
   "pygments_lexer": "ipython3",
   "version": "3.9.7"
  }
 },
 "nbformat": 4,
 "nbformat_minor": 5
}

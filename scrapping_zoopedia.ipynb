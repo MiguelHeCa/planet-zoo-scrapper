{
 "cells": [
  {
   "cell_type": "markdown",
   "id": "765c32c5-860d-46bc-bb0a-e85d74a4c79f",
   "metadata": {},
   "source": [
    "# Scrapping Planet Zoo Wiki Data\n",
    "\n",
    "This project is about having a list of all animals currently featured by [Planet Zoo](https://www.planetzoogame.com/). The data is scrapped from the [wiki fandom page](https://planetzoo.fandom.com/wiki/List_of_Animals).\n",
    "The main purpose is to have a custom control of what animals I already done research and to check which ones are hosted in a zoo in franchise mode.\n",
    "\n",
    "There is also [Guest View Radius](https://steamcommunity.com/sharedfiles/filedetails/?id=2638946337) published in the Steam Community that helps to determine best radius.\n",
    "\n",
    "The ETL process is done through PySpark. Although it would have been easier to get all data in a spreadsheet, as many others have done it, I did try it in Spark just for fun.\n",
    "\n",
    "Data is stored locally in parquet format."
   ]
  },
  {
   "cell_type": "code",
   "execution_count": 1,
   "id": "f690c5e4-4180-48f7-b8b4-073e2a66d307",
   "metadata": {},
   "outputs": [],
   "source": [
    "import requests\n",
    "\n",
    "import pandas as pd\n",
    "\n",
    "from bs4 import BeautifulSoup\n",
    "from pyspark.sql import SparkSession\n",
    "from pyspark.sql.functions import explode\n",
    "from pyspark.sql.functions import lit\n",
    "from pyspark.sql.functions import when"
   ]
  },
  {
   "cell_type": "markdown",
   "id": "2badbc6f-6e5a-4745-b06f-a38be2b06bb4",
   "metadata": {},
   "source": [
    "## Extraction"
   ]
  },
  {
   "cell_type": "markdown",
   "id": "6b8fd96c-a7e9-4a1a-bd3f-80f12a00aed1",
   "metadata": {},
   "source": [
    "### Animal list from the Wiki"
   ]
  },
  {
   "cell_type": "code",
   "execution_count": 2,
   "id": "60c4f58a-48a9-4fac-8728-87a6d4b4706c",
   "metadata": {
    "tags": []
   },
   "outputs": [],
   "source": [
    "wiki_url = 'https://planetzoo.fandom.com/wiki/'\n",
    "list_url = 'List_of_Animals'\n",
    "req = requests.get(wiki_url + list_url)\n",
    "soup = BeautifulSoup(req.text, 'html.parser')"
   ]
  },
  {
   "cell_type": "code",
   "execution_count": 3,
   "id": "21932b8e-c0dd-4090-818f-defae104a6b6",
   "metadata": {},
   "outputs": [],
   "source": [
    "zoo_soups = {}\n",
    "for row in soup.find('table').find_all('tr'):\n",
    "    cols = row.find_all('td')\n",
    "    if len(cols) != 0:\n",
    "        href = cols[0].find('a')['href'].split('/')[-1]\n",
    "        req2 = requests.get(wiki_url + href)\n",
    "        soup2 = BeautifulSoup(req2.text, 'html.parser')\n",
    "        zoo_soups[cols[0].get_text().strip()] = soup2"
   ]
  },
  {
   "cell_type": "code",
   "execution_count": 4,
   "id": "4961a647-7127-4e57-b6f1-c208911e9368",
   "metadata": {},
   "outputs": [],
   "source": [
    "biomes = {}\n",
    "for k, v in zoo_soups.items():\n",
    "    biomes_tags = v.find('div', {'data-source': 'biome'})\n",
    "    tmp = []\n",
    "    for biome in biomes_tags.find_all('img'):\n",
    "        extra_string = biome['alt'].find('Icon.png')\n",
    "        if extra_string > -1:\n",
    "            tmp.append(biome['alt'][:extra_string])\n",
    "        else:\n",
    "            tmp.append(biome['alt'])\n",
    "            \n",
    "    biomes[k] = tmp"
   ]
  },
  {
   "cell_type": "code",
   "execution_count": 5,
   "id": "6572e580-880e-4876-bfbf-5171c7260a8f",
   "metadata": {},
   "outputs": [],
   "source": [
    "animal_list = []\n",
    "for i, row in enumerate(soup.find('table').find_all('tr')):\n",
    "    cols = row.find_all('td')\n",
    "    if len(cols) != 0:\n",
    "        animal_list.append((\n",
    "            cols[0].get_text().strip(),\n",
    "            cols[1].find('img')['alt'].strip(),\n",
    "            cols[2].get_text().strip(),\n",
    "            cols[3].get_text().strip(),\n",
    "            biomes[cols[0].get_text().strip()]\n",
    "        ))"
   ]
  },
  {
   "cell_type": "code",
   "execution_count": 7,
   "id": "1ce45ba0-00c0-4e7d-8bee-2d6d7cd1bdb4",
   "metadata": {},
   "outputs": [
    {
     "data": {
      "text/plain": [
       "True"
      ]
     },
     "execution_count": 7,
     "metadata": {},
     "output_type": "execute_result"
    }
   ],
   "source": [
    "len(animal_list) == len(animal_list)"
   ]
  },
  {
   "cell_type": "code",
   "execution_count": 8,
   "id": "492f748d-f184-4cb8-be3b-491fa8e654a0",
   "metadata": {},
   "outputs": [],
   "source": [
    "headers = [elem.text.strip() for elem in soup.find('table').find_all('th')]"
   ]
  },
  {
   "cell_type": "markdown",
   "id": "5bf565de-4a79-4844-a31e-2cb437d41f34",
   "metadata": {},
   "source": [
    "### Radius Data"
   ]
  },
  {
   "cell_type": "code",
   "execution_count": 9,
   "id": "2adfe968-2b98-4dad-bebd-ca95c8da27a4",
   "metadata": {},
   "outputs": [],
   "source": [
    "rad_df = pd.read_excel('radius.xlsx')"
   ]
  },
  {
   "cell_type": "code",
   "execution_count": 10,
   "id": "d35d2aa0-9cd3-486d-8907-fdef7b344d9d",
   "metadata": {},
   "outputs": [
    {
     "data": {
      "text/html": [
       "<div>\n",
       "<style scoped>\n",
       "    .dataframe tbody tr th:only-of-type {\n",
       "        vertical-align: middle;\n",
       "    }\n",
       "\n",
       "    .dataframe tbody tr th {\n",
       "        vertical-align: top;\n",
       "    }\n",
       "\n",
       "    .dataframe thead th {\n",
       "        text-align: right;\n",
       "    }\n",
       "</style>\n",
       "<table border=\"1\" class=\"dataframe\">\n",
       "  <thead>\n",
       "    <tr style=\"text-align: right;\">\n",
       "      <th></th>\n",
       "      <th>Species</th>\n",
       "      <th>Good</th>\n",
       "      <th>Neutral</th>\n",
       "      <th>Bad</th>\n",
       "    </tr>\n",
       "  </thead>\n",
       "  <tbody>\n",
       "    <tr>\n",
       "      <th>0</th>\n",
       "      <td>Indian Peafowl</td>\n",
       "      <td>&lt;12m</td>\n",
       "      <td>12-24m</td>\n",
       "      <td>&gt;24m</td>\n",
       "    </tr>\n",
       "    <tr>\n",
       "      <th>1</th>\n",
       "      <td>Japanese Macaque</td>\n",
       "      <td>&lt;12m</td>\n",
       "      <td>12-24m</td>\n",
       "      <td>&gt;24m</td>\n",
       "    </tr>\n",
       "    <tr>\n",
       "      <th>2</th>\n",
       "      <td>Koala</td>\n",
       "      <td>&lt;12m</td>\n",
       "      <td>12-24m</td>\n",
       "      <td>&gt;24m</td>\n",
       "    </tr>\n",
       "    <tr>\n",
       "      <th>3</th>\n",
       "      <td>Meerkat</td>\n",
       "      <td>&lt;12m</td>\n",
       "      <td>16-24m</td>\n",
       "      <td>&gt;24m</td>\n",
       "    </tr>\n",
       "    <tr>\n",
       "      <th>4</th>\n",
       "      <td>Red Panda</td>\n",
       "      <td>&lt;12m</td>\n",
       "      <td>12-24m</td>\n",
       "      <td>&gt;24m</td>\n",
       "    </tr>\n",
       "    <tr>\n",
       "      <th>...</th>\n",
       "      <td>...</td>\n",
       "      <td>...</td>\n",
       "      <td>...</td>\n",
       "      <td>...</td>\n",
       "    </tr>\n",
       "    <tr>\n",
       "      <th>82</th>\n",
       "      <td>Giant Panda</td>\n",
       "      <td>&lt;20m</td>\n",
       "      <td>20-36m</td>\n",
       "      <td>&gt;36m</td>\n",
       "    </tr>\n",
       "    <tr>\n",
       "      <th>83</th>\n",
       "      <td>Gray Seal</td>\n",
       "      <td>&lt;20m</td>\n",
       "      <td>20-36m</td>\n",
       "      <td>&gt;36m</td>\n",
       "    </tr>\n",
       "    <tr>\n",
       "      <th>84</th>\n",
       "      <td>Indian Elephant</td>\n",
       "      <td>&lt;24m</td>\n",
       "      <td>24-48m</td>\n",
       "      <td>&gt;48m</td>\n",
       "    </tr>\n",
       "    <tr>\n",
       "      <th>85</th>\n",
       "      <td>Polar Bear</td>\n",
       "      <td>&lt;24m</td>\n",
       "      <td>24-48m</td>\n",
       "      <td>&gt;48m</td>\n",
       "    </tr>\n",
       "    <tr>\n",
       "      <th>86</th>\n",
       "      <td>Reticulated Giraffe</td>\n",
       "      <td>&lt;24m</td>\n",
       "      <td>24-48m</td>\n",
       "      <td>&gt;48m</td>\n",
       "    </tr>\n",
       "  </tbody>\n",
       "</table>\n",
       "<p>87 rows × 4 columns</p>\n",
       "</div>"
      ],
      "text/plain": [
       "                Species  Good Neutral   Bad\n",
       "0        Indian Peafowl  <12m  12-24m  >24m\n",
       "1      Japanese Macaque  <12m  12-24m  >24m\n",
       "2                 Koala  <12m  12-24m  >24m\n",
       "3               Meerkat  <12m  16-24m  >24m\n",
       "4             Red Panda  <12m  12-24m  >24m\n",
       "..                  ...   ...     ...   ...\n",
       "82          Giant Panda  <20m  20-36m  >36m\n",
       "83            Gray Seal  <20m  20-36m  >36m\n",
       "84      Indian Elephant  <24m  24-48m  >48m\n",
       "85           Polar Bear  <24m  24-48m  >48m\n",
       "86  Reticulated Giraffe  <24m  24-48m  >48m\n",
       "\n",
       "[87 rows x 4 columns]"
      ]
     },
     "execution_count": 10,
     "metadata": {},
     "output_type": "execute_result"
    }
   ],
   "source": [
    "rad_df"
   ]
  },
  {
   "cell_type": "markdown",
   "id": "90e5c546-d04d-454a-96d7-3ed437ab161b",
   "metadata": {},
   "source": [
    "## Transform"
   ]
  },
  {
   "cell_type": "code",
   "execution_count": 11,
   "id": "6febc1a4-3599-40de-b8fa-2484da154206",
   "metadata": {},
   "outputs": [
    {
     "data": {
      "text/plain": [
       "['Species', 'Status', 'Enclosure', 'Package', 'Biomes']"
      ]
     },
     "execution_count": 11,
     "metadata": {},
     "output_type": "execute_result"
    }
   ],
   "source": [
    "headers[-2] = 'Enclosure'\n",
    "headers[-1] = 'Package'\n",
    "headers.append('Biomes')\n",
    "headers"
   ]
  },
  {
   "cell_type": "code",
   "execution_count": 12,
   "id": "d48bc458-49c0-415b-a006-c842233c8b09",
   "metadata": {},
   "outputs": [
    {
     "name": "stdout",
     "output_type": "stream",
     "text": [
      "23/01/14 14:32:42 WARN Utils: Your hostname, MacBook-Pro-de-Miguel.local resolves to a loopback address: 127.0.0.1; using 192.168.1.38 instead (on interface en0)\n",
      "23/01/14 14:32:42 WARN Utils: Set SPARK_LOCAL_IP if you need to bind to another address\n"
     ]
    },
    {
     "name": "stderr",
     "output_type": "stream",
     "text": [
      "Setting default log level to \"WARN\".\n",
      "To adjust logging level use sc.setLogLevel(newLevel). For SparkR, use setLogLevel(newLevel).\n"
     ]
    },
    {
     "name": "stdout",
     "output_type": "stream",
     "text": [
      "23/01/14 14:32:42 WARN NativeCodeLoader: Unable to load native-hadoop library for your platform... using builtin-java classes where applicable\n"
     ]
    }
   ],
   "source": [
    "spark = (SparkSession.builder.appName('PlanetZooAnimals').getOrCreate())"
   ]
  },
  {
   "cell_type": "code",
   "execution_count": 13,
   "id": "a7590e40-7685-4aac-b9d7-e7a24692488d",
   "metadata": {},
   "outputs": [],
   "source": [
    "df = spark.createDataFrame(animal_list, headers)"
   ]
  },
  {
   "cell_type": "code",
   "execution_count": 14,
   "id": "4c1726de-727e-4133-befe-7acc1d6b0a53",
   "metadata": {},
   "outputs": [],
   "source": [
    "df2 = df.select(*df.columns[:-1], explode(df.Biomes).alias('Biome'))\n",
    "# df2.show()"
   ]
  },
  {
   "cell_type": "code",
   "execution_count": 15,
   "id": "6752379d-a8cd-4919-a1a9-a447fd9cfc95",
   "metadata": {},
   "outputs": [],
   "source": [
    "df2 = df2.withColumn('Enclosure', when(df.Enclosure == 'Full', 'Habitat').otherwise(df.Enclosure))\n",
    "df2 = df2.withColumn('Package', when(df.Package == 'Standard', 'Base').otherwise(df.Package))"
   ]
  },
  {
   "cell_type": "code",
   "execution_count": 16,
   "id": "2af4a6fa-e073-4de3-93a3-f47bceaa1e30",
   "metadata": {},
   "outputs": [
    {
     "name": "stderr",
     "output_type": "stream",
     "text": [
      "/Users/mhc/Projects/planet-zoo-scrapper/.venv/lib/python3.9/site-packages/pyspark/sql/pandas/conversion.py:474: FutureWarning: iteritems is deprecated and will be removed in a future version. Use .items instead.\n",
      "  for column, series in pdf.iteritems():\n",
      "/Users/mhc/Projects/planet-zoo-scrapper/.venv/lib/python3.9/site-packages/pyspark/sql/pandas/conversion.py:486: FutureWarning: iteritems is deprecated and will be removed in a future version. Use .items instead.\n",
      "  for column, series in pdf.iteritems():\n"
     ]
    }
   ],
   "source": [
    "df_rad = spark.createDataFrame(rad_df)"
   ]
  },
  {
   "cell_type": "code",
   "execution_count": 17,
   "id": "78fc09fe-60eb-4de0-9515-b0806702a171",
   "metadata": {},
   "outputs": [],
   "source": [
    "df2.createOrReplaceTempView('ANIMAL_LIST')\n",
    "df_rad.createOrReplaceTempView('RADIUS_VIEW')"
   ]
  },
  {
   "cell_type": "code",
   "execution_count": 18,
   "id": "74ad9719-a3b9-4345-8b15-d0395ecbfe5f",
   "metadata": {},
   "outputs": [],
   "source": [
    "query = \"\"\"\n",
    "SELECT A.Species, Status, Enclosure, Package, Biome, Good, Neutral, Bad\n",
    "FROM ANIMAL_LIST A\n",
    "LEFT JOIN RADIUS_VIEW R\n",
    "ON A.Species = R.Species\n",
    "ORDER BY A.Species\n",
    "\"\"\""
   ]
  },
  {
   "cell_type": "code",
   "execution_count": 19,
   "id": "d30f07b0-85d3-48ef-8023-173ab7489a4c",
   "metadata": {
    "tags": []
   },
   "outputs": [],
   "source": [
    "df3 = spark.sql(query)\n",
    "# df3.show(df2.count())\n",
    "# df3.show()"
   ]
  },
  {
   "cell_type": "code",
   "execution_count": null,
   "id": "ad53dced-8c99-4f4f-a54e-99e84e9680f6",
   "metadata": {},
   "outputs": [],
   "source": []
  },
  {
   "cell_type": "markdown",
   "id": "52acf59b-8688-46d0-8020-6fccedb1abe7",
   "metadata": {},
   "source": [
    "## Loading"
   ]
  },
  {
   "cell_type": "code",
   "execution_count": 20,
   "id": "482f0901-4bd3-49be-9e27-01e18886e6b4",
   "metadata": {},
   "outputs": [
    {
     "name": "stderr",
     "output_type": "stream",
     "text": [
      "                                                                                \r"
     ]
    }
   ],
   "source": [
    "df3.write.parquet('zoopedia.parquet')"
   ]
  },
  {
   "cell_type": "code",
   "execution_count": 21,
   "id": "23e3d46b-a8fd-47f2-9789-8d200868e32e",
   "metadata": {},
   "outputs": [],
   "source": [
    "spark.stop()"
   ]
  },
  {
   "cell_type": "code",
   "execution_count": null,
   "id": "6bfba5a1-595f-4287-b621-6546ec69a8a4",
   "metadata": {},
   "outputs": [],
   "source": []
  }
 ],
 "metadata": {
  "kernelspec": {
   "display_name": "Python 3 (ipykernel)",
   "language": "python",
   "name": "python3"
  },
  "language_info": {
   "codemirror_mode": {
    "name": "ipython",
    "version": 3
   },
   "file_extension": ".py",
   "mimetype": "text/x-python",
   "name": "python",
   "nbconvert_exporter": "python",
   "pygments_lexer": "ipython3",
   "version": "3.9.16"
  }
 },
 "nbformat": 4,
 "nbformat_minor": 5
}
